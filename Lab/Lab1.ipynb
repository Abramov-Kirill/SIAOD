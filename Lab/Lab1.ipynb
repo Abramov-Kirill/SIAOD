{
 "cells": [
  {
   "cell_type": "markdown",
   "id": "fifteen-sailing",
   "metadata": {},
   "source": [
    "# Лабораторная работа №1\n",
    "## Выполнил студент группы БВТ2004 Абрамов Кирилл Владиславович"
   ]
  },
  {
   "cell_type": "markdown",
   "id": "particular-syndicate",
   "metadata": {},
   "source": [
    "### Оглавление\n",
    "1. [Задание 1](#Задание-№1)\n",
    "2. [Задание 2](#Задание-№2)\n",
    "3. [Задание 3](#Задание-№3)\n",
    "4. [Вывод](#Вывод)"
   ]
  },
  {
   "cell_type": "markdown",
   "id": "arctic-stocks",
   "metadata": {},
   "source": [
    "### Задание №1\n",
    "<i> Вызвать функцию print() и передать туда строку Hello, World! </i>"
   ]
  },
  {
   "cell_type": "code",
   "execution_count": 1,
   "id": "caring-truck",
   "metadata": {
    "scrolled": true
   },
   "outputs": [
    {
     "name": "stdout",
     "output_type": "stream",
     "text": [
      "Hello, World!\n"
     ]
    }
   ],
   "source": [
    "print(\"Hello, World!\")"
   ]
  },
  {
   "cell_type": "markdown",
   "id": "maritime-conversation",
   "metadata": {},
   "source": [
    "### Задание №2\n",
    "Написать генератор случайных матриц(многомерных), который принимает\n",
    "опциональные параметры <b>m</b>, <b>n</b>, <b>min_limit</b>, <b>max_limit</b>, где <b>m</b> и <b>n</b> указывают размер\n",
    "матрицы, а <b>min_lim</b> и <b>max_lim</b> - минимальное и максимальное значение для\n",
    "генерируемого числа."
   ]
  },
  {
   "cell_type": "code",
   "execution_count": 1,
   "id": "built-contact",
   "metadata": {},
   "outputs": [],
   "source": [
    "import random\n",
    "import time\n",
    "import numpy as np\n",
    "from heapq import *\n",
    "import copy"
   ]
  },
  {
   "cell_type": "code",
   "execution_count": 2,
   "id": "alert-charm",
   "metadata": {},
   "outputs": [
    {
     "name": "stdout",
     "output_type": "stream",
     "text": [
      "7\n",
      "7\n",
      "1\n",
      "10\n"
     ]
    },
    {
     "data": {
      "text/plain": [
       "(7, 7, 1, 10)"
      ]
     },
     "execution_count": 2,
     "metadata": {},
     "output_type": "execute_result"
    }
   ],
   "source": [
    "user_m = int(input())\n",
    "user_n = int(input())\n",
    "user_min_limit = int(input())\n",
    "user_max_limit = int(input())\n",
    "user_m, user_n, user_min_limit, user_max_limit"
   ]
  },
  {
   "cell_type": "code",
   "execution_count": 3,
   "id": "c90ba2dc",
   "metadata": {},
   "outputs": [
    {
     "data": {
      "text/plain": [
       "array([[ 2,  9,  3,  7,  7,  1,  6],\n",
       "       [ 2,  7,  2,  3,  9, 10,  6],\n",
       "       [ 5,  9, 10,  9,  8, 10, 10],\n",
       "       [ 6,  5,  1,  4,  6,  7,  8],\n",
       "       [ 9,  2,  5,  1,  2,  5,  2],\n",
       "       [ 8,  5,  8,  7,  5,  6,  6],\n",
       "       [ 7,  4,  7,  6,  4,  1,  6]])"
      ]
     },
     "execution_count": 3,
     "metadata": {},
     "output_type": "execute_result"
    }
   ],
   "source": [
    "matric = np.random.randint(user_min_limit, user_max_limit+1, (user_n, user_m))\n",
    "matric"
   ]
  },
  {
   "cell_type": "markdown",
   "id": "catholic-roots",
   "metadata": {},
   "source": [
    "### Задание №3\n",
    "Реализовать методы сортировки строк числовой матрицы в соответствии с\n",
    "заданием. Оценить время работы каждого алгоритма сортировки и сравнить его со\n",
    "временем стандартной функции сортировки. Испытания проводить на сгенерированных\n",
    "матрицах."
   ]
  },
  {
   "cell_type": "code",
   "execution_count": 4,
   "id": "cleared-anniversary",
   "metadata": {},
   "outputs": [
    {
     "name": "stdout",
     "output_type": "stream",
     "text": [
      "--- 0 ms ---\n"
     ]
    },
    {
     "data": {
      "text/plain": [
       "matrix([[ 1,  2,  2,  2,  5,  5,  9],\n",
       "        [ 1,  2,  3,  6,  7,  7,  9],\n",
       "        [ 1,  4,  4,  6,  6,  7,  7],\n",
       "        [ 1,  4,  5,  6,  6,  7,  8],\n",
       "        [ 2,  2,  3,  6,  7,  9, 10],\n",
       "        [ 5,  5,  6,  6,  7,  8,  8],\n",
       "        [ 5,  8,  9,  9, 10, 10, 10]])"
      ]
     },
     "execution_count": 4,
     "metadata": {},
     "output_type": "execute_result"
    }
   ],
   "source": [
    "# Сортировка выбором.\n",
    "# Берётся срез массива, в котором минимальный элемент переносят в самый левый угол,\n",
    "# после чего срез уменьшается и цикл повторяется.\n",
    "m = copy.copy(matric)\n",
    "start_time = time.time()\n",
    "for arr in m:\n",
    "    for i in range(len(arr) -1):\n",
    "        min = i\n",
    "        for j in range(i+1, len(arr)):\n",
    "            if arr[j] < arr[min]:\n",
    "                min = j\n",
    "        t = arr[min]\n",
    "        arr[min] = arr[i]\n",
    "        arr[i] = t\n",
    "print(\"--- {0} ms ---\".format(round((time.time() - start_time)*1000)))\n",
    "m = np.matrix(sorted(map(tuple, m)))\n",
    "m"
   ]
  },
  {
   "cell_type": "code",
   "execution_count": 5,
   "id": "roman-silly",
   "metadata": {
    "scrolled": true
   },
   "outputs": [
    {
     "name": "stdout",
     "output_type": "stream",
     "text": [
      "--- 0 ms ---\n"
     ]
    },
    {
     "data": {
      "text/plain": [
       "matrix([[ 1,  2,  2,  2,  5,  5,  9],\n",
       "        [ 1,  2,  3,  6,  7,  7,  9],\n",
       "        [ 1,  4,  4,  6,  6,  7,  7],\n",
       "        [ 1,  4,  5,  6,  6,  7,  8],\n",
       "        [ 2,  2,  3,  6,  7,  9, 10],\n",
       "        [ 5,  5,  6,  6,  7,  8,  8],\n",
       "        [ 5,  8,  9,  9, 10, 10, 10]])"
      ]
     },
     "execution_count": 5,
     "metadata": {},
     "output_type": "execute_result"
    }
   ],
   "source": [
    "# Сортировка вставкой.\n",
    "m = copy.copy(matric)\n",
    "start_time = time.time()\n",
    "for arr in m:\n",
    "    for i in range(1, len(arr)):\n",
    "        for j in range(i, 0, -1):\n",
    "            if arr[j] < arr[j-1]:\n",
    "                t = arr[j]\n",
    "                arr[j] = arr[j-1]\n",
    "                arr[j-1] = t\n",
    "print(\"--- {0} ms ---\".format(round((time.time() - start_time)*1000)))\n",
    "\n",
    "m = np.matrix(sorted(map(tuple, m)))\n",
    "m"
   ]
  },
  {
   "cell_type": "code",
   "execution_count": 6,
   "id": "vital-implementation",
   "metadata": {},
   "outputs": [
    {
     "name": "stdout",
     "output_type": "stream",
     "text": [
      "--- 0 ms ---\n"
     ]
    },
    {
     "data": {
      "text/plain": [
       "matrix([[ 1,  2,  2,  2,  5,  5,  9],\n",
       "        [ 1,  2,  3,  6,  7,  7,  9],\n",
       "        [ 1,  4,  4,  6,  6,  7,  7],\n",
       "        [ 1,  4,  5,  6,  6,  7,  8],\n",
       "        [ 2,  2,  3,  6,  7,  9, 10],\n",
       "        [ 5,  5,  6,  6,  7,  8,  8],\n",
       "        [ 5,  8,  9,  9, 10, 10, 10]])"
      ]
     },
     "execution_count": 6,
     "metadata": {},
     "output_type": "execute_result"
    }
   ],
   "source": [
    "# Сортировка обменом. || Сортировка пузырьком.\n",
    "m = copy.copy(matric)\n",
    "start_time = time.time()\n",
    "for arr in m:\n",
    "    for i in range(len(arr) -1):\n",
    "        for j in range(len(arr) - (i + 1)):\n",
    "            if arr[j] > arr[j+1]:\n",
    "                t = arr[j+1]\n",
    "                arr[j+1] = arr[j]\n",
    "                arr[j] = t\n",
    "print(\"--- {0} ms ---\".format(round((time.time() - start_time)*1000)))\n",
    "\n",
    "m = np.matrix(sorted(map(tuple, m)))\n",
    "m"
   ]
  },
  {
   "cell_type": "code",
   "execution_count": 7,
   "id": "veterinary-glory",
   "metadata": {},
   "outputs": [
    {
     "name": "stdout",
     "output_type": "stream",
     "text": [
      "--- 1 ms ---\n"
     ]
    },
    {
     "data": {
      "text/plain": [
       "matrix([[ 1,  2,  2,  2,  5,  5,  9],\n",
       "        [ 1,  2,  3,  6,  7,  7,  9],\n",
       "        [ 1,  4,  4,  6,  6,  7,  7],\n",
       "        [ 1,  4,  5,  6,  6,  7,  8],\n",
       "        [ 2,  2,  3,  6,  7,  9, 10],\n",
       "        [ 5,  5,  6,  6,  7,  8,  8],\n",
       "        [ 5,  8,  9,  9, 10, 10, 10]])"
      ]
     },
     "execution_count": 7,
     "metadata": {},
     "output_type": "execute_result"
    }
   ],
   "source": [
    "# Сортировка Шелла.\n",
    "m = copy.copy(matric)\n",
    "start_time = time.time()\n",
    "\n",
    "for arr in m:\n",
    "    diap = len(arr)//2\n",
    "    while diap > 0:\n",
    "        for i in range(len(arr)-diap+1):\n",
    "            for j in range(i, diap-1, -diap):\n",
    "                if (arr[j-diap] > arr[j]):\n",
    "                    t = arr[j-diap]\n",
    "                    arr[j-diap] = arr[j]\n",
    "                    arr[j] = t\n",
    "        diap = diap // 2\n",
    "\n",
    "print(\"--- {0} ms ---\".format(round((time.time() - start_time)*1000)))\n",
    "\n",
    "m = np.matrix(sorted(map(tuple, m)))\n",
    "m"
   ]
  },
  {
   "cell_type": "code",
   "execution_count": 8,
   "id": "correct-chaos",
   "metadata": {},
   "outputs": [
    {
     "name": "stdout",
     "output_type": "stream",
     "text": [
      "--- 0.0 ms ---\n"
     ]
    },
    {
     "data": {
      "text/plain": [
       "matrix([[ 1,  2,  2,  2,  5,  5,  9],\n",
       "        [ 1,  2,  3,  6,  7,  7,  9],\n",
       "        [ 1,  4,  4,  6,  6,  7,  7],\n",
       "        [ 1,  4,  5,  6,  6,  7,  8],\n",
       "        [ 2,  2,  3,  6,  7,  9, 10],\n",
       "        [ 5,  5,  6,  6,  7,  8,  8],\n",
       "        [ 5,  8,  9,  9, 10, 10, 10]])"
      ]
     },
     "execution_count": 8,
     "metadata": {},
     "output_type": "execute_result"
    }
   ],
   "source": [
    "# Быстрая сортировка.\n",
    "def my_sort(arr):\n",
    "    if(len(arr) <= 1):\n",
    "        return arr\n",
    "    e = arr[-1]\n",
    "    l = list(filter(lambda x: x < e, arr))\n",
    "    r = list(filter(lambda x: x > e, arr))\n",
    "    c = list(filter(lambda x: x == e, arr))\n",
    "    \n",
    "    return my_sort(l) + c + my_sort(r)\n",
    "\n",
    "\n",
    "m = copy.copy(matric)\n",
    "start_time = time.time()\n",
    "\n",
    "for i in range(len(m)):\n",
    "    m[i] = my_sort(m[i])\n",
    "\n",
    "\n",
    "print(\"--- {0} ms ---\".format(((time.time() - start_time)*1000)))\n",
    "\n",
    "m = np.matrix(sorted(map(tuple, m)))\n",
    "m"
   ]
  },
  {
   "cell_type": "code",
   "execution_count": 9,
   "id": "french-czech",
   "metadata": {},
   "outputs": [
    {
     "name": "stdout",
     "output_type": "stream",
     "text": [
      "--- 0.000000 ms ---\n"
     ]
    },
    {
     "data": {
      "text/plain": [
       "matrix([[ 1,  2,  2,  2,  5,  5,  9],\n",
       "        [ 1,  2,  3,  6,  7,  7,  9],\n",
       "        [ 1,  4,  4,  6,  6,  7,  7],\n",
       "        [ 1,  4,  5,  6,  6,  7,  8],\n",
       "        [ 2,  2,  3,  6,  7,  9, 10],\n",
       "        [ 5,  5,  6,  6,  7,  8,  8],\n",
       "        [ 5,  8,  9,  9, 10, 10, 10]])"
      ]
     },
     "execution_count": 9,
     "metadata": {},
     "output_type": "execute_result"
    }
   ],
   "source": [
    "# Турнирная сортировка.\n",
    "start_time = time.time()\n",
    "# Турнирная сортировка с многопутевым слиянием.\n",
    "\n",
    "\n",
    "m = copy.copy(matric).tolist()\n",
    "\n",
    "MAX_SIZE = 7\n",
    "\n",
    "def multipath_merge(a: list, b: list) -> list:\n",
    "    result = []\n",
    "    \n",
    "    while len(a) > 0 and len(b) > 0:\n",
    "        if (b[0] < a[0]):\n",
    "            result.append(b.pop(0))\n",
    "        else:\n",
    "            result.append(a.pop(0))\n",
    "            \n",
    "    len_a = len(a)\n",
    "    len_b = len(b)\n",
    "    \n",
    "    if (len_a == 0 and len_b == 0):\n",
    "        return result\n",
    "    \n",
    "    if (len_a > 0):\n",
    "        result += a\n",
    "    else:\n",
    "        result += b\n",
    "                \n",
    "    return result\n",
    "\n",
    "def optimal_tournament_sort(values: list) -> list:\n",
    "    heap = []\n",
    "    \n",
    "    for i in values:\n",
    "        heappush(heap, i)\n",
    "        \n",
    "    for i in range(len(heap)):\n",
    "        values[i] = heappop(heap)\n",
    "    \n",
    "    return values\n",
    "\n",
    "                \n",
    "def bracketize(values: list) -> list:\n",
    "    heap = []\n",
    "    \n",
    "    while len(heap) <= MAX_SIZE:\n",
    "        heappush(heap, values.pop(0))\n",
    "        \n",
    "    winners = []\n",
    "    losers = []\n",
    "    \n",
    "    while len(values) > 0:\n",
    "        if len(winners) == 0:\n",
    "            winners.append(heappop(heap))\n",
    "            \n",
    "        if values[0] > winners[-1]:\n",
    "            heappush(heap, values.pop(0))\n",
    "        else:\n",
    "            losers.append(values.pop(0))\n",
    "            \n",
    "        if len(heap) > 0:\n",
    "            winners.append(heappop(heap))\n",
    "            \n",
    "    while len(heap) > 0:\n",
    "        winners.append(heappop(heap))\n",
    "        \n",
    "    if len(losers) == 0:\n",
    "        return winners\n",
    "    \n",
    "    return multipath_merge(tournament_sort(losers), winners)\n",
    "\n",
    "def tournament_sort(values: list) -> list:\n",
    "    if (len(values) <= MAX_SIZE):\n",
    "        return optimal_tournament_sort(values)\n",
    "    else:\n",
    "        return bracketize(values)\n",
    "\n",
    "\n",
    "start_time = time.time()\n",
    "\n",
    "for i in range(len(m)):\n",
    "    m[i] = tournament_sort(m[i])\n",
    "    \n",
    "m = np.matrix(sorted(map(tuple, m)))\n",
    "    \n",
    "print(\"--- {:.6f} ms ---\".format((time.time() - start_time) * 1000))\n",
    "m"
   ]
  },
  {
   "cell_type": "markdown",
   "id": "rental-jerusalem",
   "metadata": {},
   "source": [
    "### Вывод\n"
   ]
  },
  {
   "cell_type": "code",
   "execution_count": null,
   "id": "19e7f6a9",
   "metadata": {},
   "outputs": [],
   "source": []
  }
 ],
 "metadata": {
  "kernelspec": {
   "display_name": "Python 3 (ipykernel)",
   "language": "python",
   "name": "python3"
  },
  "language_info": {
   "codemirror_mode": {
    "name": "ipython",
    "version": 3
   },
   "file_extension": ".py",
   "mimetype": "text/x-python",
   "name": "python",
   "nbconvert_exporter": "python",
   "pygments_lexer": "ipython3",
   "version": "3.9.7"
  }
 },
 "nbformat": 4,
 "nbformat_minor": 5
}
