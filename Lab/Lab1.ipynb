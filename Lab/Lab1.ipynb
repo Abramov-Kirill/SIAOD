{
 "cells": [
  {
   "cell_type": "markdown",
   "id": "fifteen-sailing",
   "metadata": {},
   "source": [
    "# Лабораторная работа №1\n",
    "## Выполнил студент группы БВТ2004 Абрамов Кирилл Владиславович"
   ]
  },
  {
   "cell_type": "markdown",
   "id": "particular-syndicate",
   "metadata": {},
   "source": [
    "### Оглавление\n",
    "1. [Задание 1](#Задание-№1)\n",
    "2. [Задание 2](#Задание-№2)\n",
    "3. [Задание 3](#Задание-№3)\n",
    "4. [Вывод](#Вывод)"
   ]
  },
  {
   "cell_type": "markdown",
   "id": "arctic-stocks",
   "metadata": {},
   "source": [
    "### Задание №1\n",
    "<i> Вызвать функцию print() и передать туда строку Hello, World! </i>"
   ]
  },
  {
   "cell_type": "code",
   "execution_count": 1,
   "id": "caring-truck",
   "metadata": {
    "scrolled": true
   },
   "outputs": [
    {
     "name": "stdout",
     "output_type": "stream",
     "text": [
      "Hello, World!\n"
     ]
    }
   ],
   "source": [
    "print(\"Hello, World!\")"
   ]
  },
  {
   "cell_type": "markdown",
   "id": "maritime-conversation",
   "metadata": {},
   "source": [
    "### Задание №2\n",
    "Написать генератор случайных матриц(многомерных), который принимает\n",
    "опциональные параметры <b>m</b>, <b>n</b>, <b>min_limit</b>, <b>max_limit</b>, где <b>m</b> и <b>n</b> указывают размер\n",
    "матрицы, а <b>min_lim</b> и <b>max_lim</b> - минимальное и максимальное значение для\n",
    "генерируемого числа."
   ]
  },
  {
   "cell_type": "code",
   "execution_count": 18,
   "id": "built-contact",
   "metadata": {},
   "outputs": [],
   "source": [
    "import random\n",
    "import time\n",
    "import numpy as np\n",
    "import heapq\n",
    "import copy"
   ]
  },
  {
   "cell_type": "code",
   "execution_count": 36,
   "id": "alert-charm",
   "metadata": {},
   "outputs": [
    {
     "name": "stdout",
     "output_type": "stream",
     "text": [
      "20\n",
      "20\n",
      "1\n",
      "50\n"
     ]
    },
    {
     "data": {
      "text/plain": [
       "(20, 20, 1, 50)"
      ]
     },
     "execution_count": 36,
     "metadata": {},
     "output_type": "execute_result"
    }
   ],
   "source": [
    "user_m = int(input())\n",
    "user_n = int(input())\n",
    "user_min_limit = int(input())\n",
    "user_max_limit = int(input())\n",
    "user_m, user_n, user_min_limit, user_max_limit"
   ]
  },
  {
   "cell_type": "code",
   "execution_count": 37,
   "id": "c90ba2dc",
   "metadata": {},
   "outputs": [
    {
     "data": {
      "text/plain": [
       "array([[10, 38, 38,  3, 21, 39, 25, 44,  2, 25, 17, 42, 20, 15, 30, 43,\n",
       "        32,  8, 18, 22],\n",
       "       [19,  5,  9, 10, 14,  9, 37, 27,  3,  7, 12, 24, 42,  2, 46, 22,\n",
       "        46, 23, 43, 40],\n",
       "       [33, 19, 17, 32, 15, 12, 44, 17, 25,  8,  7, 18, 13, 50, 35, 29,\n",
       "        49,  1, 49, 16],\n",
       "       [11, 34, 12, 47,  3, 17,  7, 27, 26, 12, 36, 17, 30, 36, 29, 50,\n",
       "        44,  3, 44, 10],\n",
       "       [16,  1, 17,  1, 27, 13, 38, 10, 17, 18,  7, 43, 48, 37, 23, 37,\n",
       "        11, 30, 40, 36],\n",
       "       [13, 46, 43, 48, 35, 46, 44,  7, 45, 38, 27, 50, 14, 50,  9, 35,\n",
       "        25, 45,  8, 44],\n",
       "       [ 9, 42, 37, 47, 26,  4, 22, 34, 14, 32, 13, 42, 15, 31,  5, 17,\n",
       "        13, 17,  9, 37],\n",
       "       [28, 18, 38, 34,  7, 45,  1, 19, 22, 21,  1, 41, 21, 20, 50, 39,\n",
       "        48, 23, 44, 11],\n",
       "       [29, 32, 35, 14, 32, 29,  3, 26, 36, 15, 31, 16, 22, 25,  1, 43,\n",
       "         6, 21,  4,  2],\n",
       "       [17, 27, 15, 11, 36, 34, 35, 23, 19, 37,  1, 40, 50, 33, 44, 40,\n",
       "         6, 24,  8, 11],\n",
       "       [39, 19, 16, 10, 26, 14, 43, 35, 34, 38, 25,  9,  6,  4, 16, 26,\n",
       "        19, 29, 10, 13],\n",
       "       [20,  2, 49, 47, 38, 41,  4,  5, 50, 31, 41, 40, 30, 16, 29,  9,\n",
       "        22, 32, 20,  3],\n",
       "       [17,  7, 15, 39, 30, 34, 29, 44, 19, 48,  9, 33, 17, 38,  8, 26,\n",
       "        36, 44,  3,  9],\n",
       "       [14,  8,  5, 25, 34, 24, 27,  3, 22, 14, 45, 49, 30, 15, 34, 39,\n",
       "        47, 26, 14, 32],\n",
       "       [49, 26, 49, 10, 20, 30, 48, 45, 46, 16, 39, 25, 44, 49, 20, 19,\n",
       "        48,  6, 32, 20],\n",
       "       [23, 18, 31, 24, 30, 43,  1, 30, 18, 43,  9, 35,  5,  9, 33, 14,\n",
       "        46, 33, 49, 12],\n",
       "       [18, 30, 42,  1, 21,  7, 30,  9, 17, 23, 41, 31, 33, 22, 44, 34,\n",
       "        29, 41, 48,  6],\n",
       "       [41, 36, 26, 10,  7, 40, 43, 24,  5, 16, 37, 26, 28,  4, 23, 17,\n",
       "        20, 36, 35, 16],\n",
       "       [37, 12, 46, 26, 28, 46, 18, 23, 14, 23, 47,  4, 49, 36, 10, 18,\n",
       "        39, 38, 32, 28],\n",
       "       [21, 33,  8, 24, 47, 26, 37,  6, 25, 16, 13,  5, 20, 28,  7,  5,\n",
       "        31, 11, 34,  4]])"
      ]
     },
     "execution_count": 37,
     "metadata": {},
     "output_type": "execute_result"
    }
   ],
   "source": [
    "matric = np.random.randint(user_min_limit, user_max_limit+1, (user_n, user_m))\n",
    "matric"
   ]
  },
  {
   "cell_type": "markdown",
   "id": "catholic-roots",
   "metadata": {},
   "source": [
    "### Задание №3\n",
    "Реализовать методы сортировки строк числовой матрицы в соответствии с\n",
    "заданием. Оценить время работы каждого алгоритма сортировки и сравнить его со\n",
    "временем стандартной функции сортировки. Испытания проводить на сгенерированных\n",
    "матрицах."
   ]
  },
  {
   "cell_type": "code",
   "execution_count": 17,
   "id": "opposed-creature",
   "metadata": {},
   "outputs": [],
   "source": []
  },
  {
   "cell_type": "code",
   "execution_count": 14,
   "id": "cleared-anniversary",
   "metadata": {},
   "outputs": [
    {
     "name": "stdout",
     "output_type": "stream",
     "text": [
      "--- 0 ms ---\n"
     ]
    },
    {
     "data": {
      "text/plain": [
       "matrix([[1, 1, 1, 6, 8],\n",
       "        [2, 6, 7, 8, 8],\n",
       "        [3, 4, 5, 7, 9],\n",
       "        [3, 6, 6, 8, 8],\n",
       "        [3, 6, 7, 8, 8]])"
      ]
     },
     "execution_count": 14,
     "metadata": {},
     "output_type": "execute_result"
    }
   ],
   "source": [
    "# Сортировка выбором.\n",
    "# Берётся срез массива, в котором минимальный элемент переносят в самый левый угол,\n",
    "# после чего срез уменьшается и цикл повторяется.\n",
    "m = copy.copy(matric)\n",
    "start_time = time.time()\n",
    "for arr in m:\n",
    "    for i in range(len(arr) -1):\n",
    "        min = i\n",
    "        for j in range(i+1, len(arr)):\n",
    "            if arr[j] < arr[min]:\n",
    "                min = j\n",
    "        t = arr[min]\n",
    "        arr[min] = arr[i]\n",
    "        arr[i] = t\n",
    "print(\"--- {0} ms ---\".format(round((time.time() - start_time)*1000)))\n",
    "m = np.matrix(sorted(map(tuple, m)))\n",
    "m"
   ]
  },
  {
   "cell_type": "code",
   "execution_count": 16,
   "id": "roman-silly",
   "metadata": {
    "scrolled": true
   },
   "outputs": [
    {
     "name": "stdout",
     "output_type": "stream",
     "text": [
      "--- 0 ms ---\n"
     ]
    },
    {
     "data": {
      "text/plain": [
       "matrix([[1, 1, 1, 6, 8],\n",
       "        [2, 6, 7, 8, 8],\n",
       "        [3, 4, 5, 7, 9],\n",
       "        [3, 6, 6, 8, 8],\n",
       "        [3, 6, 7, 8, 8]])"
      ]
     },
     "execution_count": 16,
     "metadata": {},
     "output_type": "execute_result"
    }
   ],
   "source": [
    "# Сортировка вставкой.\n",
    "m = copy.copy(matric)\n",
    "start_time = time.time()\n",
    "for arr in m:\n",
    "    for i in range(1, len(arr)):\n",
    "        for j in range(i, 0, -1):\n",
    "            if arr[j] < arr[j-1]:\n",
    "                t = arr[j]\n",
    "                arr[j] = arr[j-1]\n",
    "                arr[j-1] = t\n",
    "print(\"--- {0} ms ---\".format(round((time.time() - start_time)*1000)))\n",
    "\n",
    "m = np.matrix(sorted(map(tuple, m)))\n",
    "m"
   ]
  },
  {
   "cell_type": "code",
   "execution_count": 19,
   "id": "vital-implementation",
   "metadata": {},
   "outputs": [
    {
     "name": "stdout",
     "output_type": "stream",
     "text": [
      "--- 0 ms ---\n"
     ]
    },
    {
     "data": {
      "text/plain": [
       "matrix([[1, 1, 1, 6, 8],\n",
       "        [2, 6, 7, 8, 8],\n",
       "        [3, 4, 5, 7, 9],\n",
       "        [3, 6, 6, 8, 8],\n",
       "        [3, 6, 7, 8, 8]])"
      ]
     },
     "execution_count": 19,
     "metadata": {},
     "output_type": "execute_result"
    }
   ],
   "source": [
    "# Сортировка обменом. || Сортировка пузырьком.\n",
    "m = copy.copy(matric)\n",
    "start_time = time.time()\n",
    "for arr in m:\n",
    "    for i in range(len(arr) -1):\n",
    "        for j in range(len(arr) - (i + 1)):\n",
    "            if arr[j] > arr[j+1]:\n",
    "                t = arr[j+1]\n",
    "                arr[j+1] = arr[j]\n",
    "                arr[j] = t\n",
    "print(\"--- {0} ms ---\".format(round((time.time() - start_time)*1000)))\n",
    "\n",
    "m = np.matrix(sorted(map(tuple, m)))\n",
    "m"
   ]
  },
  {
   "cell_type": "code",
   "execution_count": 29,
   "id": "veterinary-glory",
   "metadata": {},
   "outputs": [
    {
     "name": "stdout",
     "output_type": "stream",
     "text": [
      "--- 1 ms ---\n"
     ]
    },
    {
     "data": {
      "text/plain": [
       "matrix([[1, 2, 4, 7, 8, 9],\n",
       "        [2, 3, 5, 5, 8, 9],\n",
       "        [3, 3, 5, 6, 7, 8],\n",
       "        [3, 3, 5, 8, 9, 9],\n",
       "        [3, 4, 5, 6, 6, 7],\n",
       "        [3, 4, 5, 6, 7, 9]])"
      ]
     },
     "execution_count": 29,
     "metadata": {},
     "output_type": "execute_result"
    }
   ],
   "source": [
    "# Сортировка Шелла.\n",
    "m = copy.copy(matric)\n",
    "start_time = time.time()\n",
    "\n",
    "for arr in m:\n",
    "    diap = len(arr)//2\n",
    "    while diap > 0:\n",
    "        for i in range(len(arr)-diap+1):\n",
    "            for j in range(i, diap-1, -diap):\n",
    "                if (arr[j-diap] > arr[j]):\n",
    "                    t = arr[j-diap]\n",
    "                    arr[j-diap] = arr[j]\n",
    "                    arr[j] = t\n",
    "        diap = diap // 2\n",
    "\n",
    "print(\"--- {0} ms ---\".format(round((time.time() - start_time)*1000)))\n",
    "\n",
    "m = np.matrix(sorted(map(tuple, m)))\n",
    "m"
   ]
  },
  {
   "cell_type": "code",
   "execution_count": 26,
   "id": "correct-chaos",
   "metadata": {},
   "outputs": [
    {
     "name": "stdout",
     "output_type": "stream",
     "text": [
      "--- 0.0 ms ---\n"
     ]
    },
    {
     "data": {
      "text/plain": [
       "matrix([[ 1,  1,  4,  4,  6,  9,  9],\n",
       "        [ 1,  3,  3,  5,  6,  6,  8],\n",
       "        [ 1,  3,  3,  5,  6, 10, 10],\n",
       "        [ 2,  4,  4,  5,  6,  8, 10],\n",
       "        [ 3,  3,  4,  6,  8,  9, 10],\n",
       "        [ 3,  4,  4,  4,  6,  7, 10],\n",
       "        [ 5,  5,  6,  7,  7,  9, 10]])"
      ]
     },
     "execution_count": 26,
     "metadata": {},
     "output_type": "execute_result"
    }
   ],
   "source": [
    "# Быстрая сортировка.\n",
    "def my_sort(arr):\n",
    "    if(len(arr) <= 1):\n",
    "        return arr\n",
    "    e = arr[-1]\n",
    "    l = list(filter(lambda x: x < e, arr))\n",
    "    r = list(filter(lambda x: x > e, arr))\n",
    "    c = list(filter(lambda x: x == e, arr))\n",
    "    \n",
    "    return my_sort(l) + c + my_sort(r)\n",
    "\n",
    "\n",
    "m = copy.copy(matric)\n",
    "start_time = time.time()\n",
    "\n",
    "for i in range(len(m)):\n",
    "    m[i] = my_sort(m[i])\n",
    "\n",
    "\n",
    "print(\"--- {0} ms ---\".format(((time.time() - start_time)*1000)))\n",
    "\n",
    "m = np.matrix(sorted(map(tuple, m)))\n",
    "m"
   ]
  },
  {
   "cell_type": "code",
   "execution_count": 42,
   "id": "french-czech",
   "metadata": {},
   "outputs": [
    {
     "name": "stdout",
     "output_type": "stream",
     "text": [
      "--- 0.000000 ms ---\n"
     ]
    },
    {
     "data": {
      "text/plain": [
       "matrix([[ 1,  1,  7, 10, 11, 13, 16, 17, 17, 18, 23, 27, 30, 36, 37, 37,\n",
       "         38, 40, 43, 48],\n",
       "        [ 1,  1,  7, 11, 18, 19, 20, 21, 21, 22, 23, 28, 34, 38, 39, 41,\n",
       "         44, 45, 48, 50],\n",
       "        [ 1,  2,  3,  4,  6, 14, 15, 16, 21, 22, 25, 26, 29, 29, 31, 32,\n",
       "         32, 35, 36, 43],\n",
       "        [ 1,  5,  9,  9, 12, 14, 18, 18, 23, 24, 30, 30, 31, 33, 33, 35,\n",
       "         43, 43, 46, 49],\n",
       "        [ 1,  6,  7,  9, 17, 18, 21, 22, 23, 29, 30, 30, 31, 33, 34, 41,\n",
       "         41, 42, 44, 48],\n",
       "        [ 1,  6,  8, 11, 11, 15, 17, 19, 23, 24, 27, 33, 34, 35, 36, 37,\n",
       "         40, 40, 44, 50],\n",
       "        [ 1,  7,  8, 12, 13, 15, 16, 17, 17, 18, 19, 25, 29, 32, 33, 35,\n",
       "         44, 49, 49, 50],\n",
       "        [ 2,  3,  4,  5,  9, 16, 20, 20, 22, 29, 30, 31, 32, 38, 40, 41,\n",
       "         41, 47, 49, 50],\n",
       "        [ 2,  3,  5,  7,  9,  9, 10, 12, 14, 19, 22, 23, 24, 27, 37, 40,\n",
       "         42, 43, 46, 46],\n",
       "        [ 2,  3,  8, 10, 15, 17, 18, 20, 21, 22, 25, 25, 30, 32, 38, 38,\n",
       "         39, 42, 43, 44],\n",
       "        [ 3,  3,  7, 10, 11, 12, 12, 17, 17, 26, 27, 29, 30, 34, 36, 36,\n",
       "         44, 44, 47, 50],\n",
       "        [ 3,  5,  8, 14, 14, 14, 15, 22, 24, 25, 26, 27, 30, 32, 34, 34,\n",
       "         39, 45, 47, 49],\n",
       "        [ 3,  7,  8,  9,  9, 15, 17, 17, 19, 26, 29, 30, 33, 34, 36, 38,\n",
       "         39, 44, 44, 48],\n",
       "        [ 4,  5,  5,  6,  7,  8, 11, 13, 16, 20, 21, 24, 25, 26, 28, 31,\n",
       "         33, 34, 37, 47],\n",
       "        [ 4,  5,  7, 10, 16, 16, 17, 20, 23, 24, 26, 26, 28, 35, 36, 36,\n",
       "         37, 40, 41, 43],\n",
       "        [ 4,  5,  9,  9, 13, 13, 14, 15, 17, 17, 22, 26, 31, 32, 34, 37,\n",
       "         37, 42, 42, 47],\n",
       "        [ 4,  6,  9, 10, 10, 13, 14, 16, 16, 19, 19, 25, 26, 26, 29, 34,\n",
       "         35, 38, 39, 43],\n",
       "        [ 4, 10, 12, 14, 18, 18, 23, 23, 26, 28, 28, 32, 36, 37, 38, 39,\n",
       "         46, 46, 47, 49],\n",
       "        [ 6, 10, 16, 19, 20, 20, 20, 25, 26, 30, 32, 39, 44, 45, 46, 48,\n",
       "         48, 49, 49, 49],\n",
       "        [ 7,  8,  9, 13, 14, 25, 27, 35, 35, 38, 43, 44, 44, 45, 45, 46,\n",
       "         46, 48, 50, 50]])"
      ]
     },
     "execution_count": 42,
     "metadata": {},
     "output_type": "execute_result"
    }
   ],
   "source": [
    "# Турнирная сортировка.\n",
    "start_time = time.time()\n",
    "# Турнирная сортировка с многопутевым слиянием.\n",
    "\n",
    "\n",
    "m = copy.copy(matric).tolist()\n",
    "\n",
    "MAX_SIZE = 7\n",
    "\n",
    "def multipath_merge(a: list, b: list) -> list:\n",
    "    result = []\n",
    "    \n",
    "    while len(a) > 0 and len(b) > 0:\n",
    "        if (b[0] < a[0]):\n",
    "            result.append(b.pop(0))\n",
    "        else:\n",
    "            result.append(a.pop(0))\n",
    "            \n",
    "    len_a = len(a)\n",
    "    len_b = len(b)\n",
    "    \n",
    "    if (len_a == 0 and len_b == 0):\n",
    "        return result\n",
    "    \n",
    "    if (len_a > 0):\n",
    "        result += a\n",
    "    else:\n",
    "        result += b\n",
    "                \n",
    "    return result\n",
    "\n",
    "def optimal_tournament_sort(values: list) -> list:\n",
    "    heap = []\n",
    "    \n",
    "    for i in values:\n",
    "        heappush(heap, i)\n",
    "        \n",
    "    for i in range(len(heap)):\n",
    "        values[i] = heappop(heap)\n",
    "    \n",
    "    return values\n",
    "\n",
    "                \n",
    "def bracketize(values: list) -> list:\n",
    "    heap = []\n",
    "    \n",
    "    while len(heap) <= MAX_SIZE:\n",
    "        heappush(heap, values.pop(0))\n",
    "        \n",
    "    winners = []\n",
    "    losers = []\n",
    "    \n",
    "    while len(values) > 0:\n",
    "        if len(winners) == 0:\n",
    "            winners.append(heappop(heap))\n",
    "            \n",
    "        if values[0] > winners[-1]:\n",
    "            heappush(heap, values.pop(0))\n",
    "        else:\n",
    "            losers.append(values.pop(0))\n",
    "            \n",
    "        if len(heap) > 0:\n",
    "            winners.append(heappop(heap))\n",
    "            \n",
    "    while len(heap) > 0:\n",
    "        winners.append(heappop(heap))\n",
    "        \n",
    "    if len(losers) == 0:\n",
    "        return winners\n",
    "    \n",
    "    return multipath_merge(tournament_sort(losers), winners)\n",
    "\n",
    "def tournament_sort(values: list) -> list:\n",
    "    if (len(values) <= MAX_SIZE):\n",
    "        return optimal_tournament_sort(values)\n",
    "    else:\n",
    "        return bracketize(values)\n",
    "\n",
    "\n",
    "start_time = time.time()\n",
    "\n",
    "for i in range(len(m)):\n",
    "    m[i] = tournament_sort(m[i])\n",
    "    \n",
    "m = np.matrix(sorted(map(tuple, m)))\n",
    "    \n",
    "print(\"--- {:.6f} ms ---\".format((time.time() - start_time) * 1000))\n",
    "m"
   ]
  },
  {
   "cell_type": "markdown",
   "id": "rental-jerusalem",
   "metadata": {},
   "source": [
    "### Вывод\n"
   ]
  },
  {
   "cell_type": "code",
   "execution_count": null,
   "id": "19e7f6a9",
   "metadata": {},
   "outputs": [],
   "source": []
  }
 ],
 "metadata": {
  "kernelspec": {
   "display_name": "Python 3 (ipykernel)",
   "language": "python",
   "name": "python3"
  },
  "language_info": {
   "codemirror_mode": {
    "name": "ipython",
    "version": 3
   },
   "file_extension": ".py",
   "mimetype": "text/x-python",
   "name": "python",
   "nbconvert_exporter": "python",
   "pygments_lexer": "ipython3",
   "version": "3.9.7"
  }
 },
 "nbformat": 4,
 "nbformat_minor": 5
}
