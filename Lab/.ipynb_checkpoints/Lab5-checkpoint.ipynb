{
 "cells": [
  {
   "cell_type": "markdown",
   "metadata": {
    "id": "WPvB9TcMmKA6"
   },
   "source": [
    "# Лабораторная работа №5\n",
    "# Рекурсия. Фракталы."
   ]
  },
  {
   "cell_type": "markdown",
   "metadata": {
    "id": "96Gi_LEvmSVH"
   },
   "source": [
    "## Выполнил студент группы ФИО ГРУППА\n",
    "***"
   ]
  },
  {
   "cell_type": "markdown",
   "metadata": {
    "id": "4clYOyb0mbEv"
   },
   "source": [
    "### Задание:\n",
    "Реализовать генерацию заданного типа фрактала с применением рекурсивных функций.\n",
    "\n",
    "\n",
    "Добавить возможность задания глубины фрактала. \n",
    "\n",
    "\n",
    "Оценить глубину рекурсии. \n",
    "\n",
    "\n",
    "Построить таблицу зависимости времени построения от глубины фрактала."
   ]
  },
  {
   "cell_type": "markdown",
   "metadata": {
    "id": "wDXHbUmMmhRL"
   },
   "source": [
    "### Список фракталов:\n",
    "\n",
    "Кривая Коха\n",
    "| Кривая Гильберта\n",
    "| Кривая Серпинского\n",
    "| Салфетка Серпинского\n",
    "| Ковер Серпинского\n",
    "| Дерево Пифагора "
   ]
  },
  {
   "cell_type": "markdown",
   "metadata": {
    "id": "Wggfn8l7nG72"
   },
   "source": [
    "### Выполнение:"
   ]
  },
  {
   "cell_type": "code",
   "execution_count": 2,
   "metadata": {},
   "outputs": [],
   "source": [
    "import time\n",
    "\n",
    "import turtle                             #знакомьтесь - черепашка \n",
    "\n",
    "def create_l_system(iters, axiom, rules): #Создание L-системы включающей в себя алфавит, аксиому и правило\n",
    "    start_string = axiom\n",
    "    if iters == 0:\n",
    "        return axiom\n",
    "    end_string = \"\"\n",
    "    for _ in range(iters):\n",
    "        end_string = \"\".join(rules[i] if i in rules else i for i in start_string)\n",
    "        start_string = end_string\n",
    "\n",
    "    return end_string\n",
    "\n",
    "\n",
    "def draw_l_system(t, instructions, angle, distance): #Метод для \"расшифровки\" алфавита черепахой\n",
    "    for cmd in instructions:\n",
    "        if cmd == 'F':             #Имеет также варианты X и Y для оси абсцисс и ординат\n",
    "            t.forward(distance)\n",
    "        elif cmd == '+':\n",
    "            t.right(angle)\n",
    "        elif cmd == '-':\n",
    "            t.left(angle)\n",
    "\n",
    "\n",
    "def main(iterations, axiom, rules, angle, length=8, size=2, y_offset=0,          #Метод для непосредственной отрисовки \n",
    "        x_offset=0, offset_angle=0, width=450, height=450):\n",
    "\n",
    "    inst = create_l_system(iterations, axiom, rules)\n",
    "    turtle.tracer(1, 0)        #мега-ускоренный режим черепашки\n",
    "    t = turtle.Turtle()        #сама черепашка\n",
    "    wn = turtle.Screen()\n",
    "    wn.setup(width, height)\n",
    "    t.ht()   \n",
    "    t.up()                     # черепашка воспаряет над поверхностью (чтобы не было следа)\n",
    "    t.backward(-x_offset)\n",
    "    t.left(90)\n",
    "    t.backward(-y_offset)\n",
    "    t.left(offset_angle)\n",
    "    t.down()\n",
    "    t.speed(10000)\n",
    "    t.pensize(size)\n",
    "    draw_l_system(t, inst, angle, length)\n",
    "    t.hideturtle()"
   ]
  },
  {
   "cell_type": "code",
   "execution_count": null,
   "metadata": {},
   "outputs": [
    {
     "name": "stdout",
     "output_type": "stream",
     "text": [
      "Глубина   Время\n",
      "    1     99.624500 ms    \n",
      "    2     17.200200 ms    \n",
      "    3     59.416800 ms    \n",
      "    4     225.802800 ms    \n",
      "    5     507.926100 ms    \n",
      "Введите глубину (Рек. 4) - 4\n"
     ]
    }
   ],
   "source": [
    "#Кривая Коха\n",
    "\n",
    "angle = 60\n",
    "axiom = \"F\"\n",
    "rules = {\"F\": \"F+F--F+F\" }\n",
    "\n",
    "it = 0\n",
    "print(\"Глубина   Время\")\n",
    "for i in range (5):\n",
    "    it = it + 1\n",
    "    start_time = time.perf_counter()\n",
    "    main(it, axiom, rules, angle, length=8, size=2, y_offset=0, x_offset=100, offset_angle=90, width=1280, height=720)\n",
    "    print(\"   \", it, (\"    {:.6f} ms    \".format((time.perf_counter() - start_time) * 1000)))\n",
    "iterations = int(input(\"Введите глубину (Рек. 4) - \"))\n",
    "\n",
    "main(iterations, axiom, rules, angle, length=8, size=2, y_offset=0, x_offset=100, offset_angle=90, width=1280, height=720)"
   ]
  },
  {
   "cell_type": "code",
   "execution_count": null,
   "metadata": {},
   "outputs": [],
   "source": []
  },
  {
   "cell_type": "markdown",
   "metadata": {
    "id": "diOb-K7LnO5a"
   },
   "source": [
    "### Вывод"
   ]
  }
 ],
 "metadata": {
  "colab": {
   "collapsed_sections": [],
   "name": "Lab5.ipynb",
   "provenance": []
  },
  "kernelspec": {
   "display_name": "Python 3 (ipykernel)",
   "language": "python",
   "name": "python3"
  },
  "language_info": {
   "codemirror_mode": {
    "name": "ipython",
    "version": 3
   },
   "file_extension": ".py",
   "mimetype": "text/x-python",
   "name": "python",
   "nbconvert_exporter": "python",
   "pygments_lexer": "ipython3",
   "version": "3.9.7"
  }
 },
 "nbformat": 4,
 "nbformat_minor": 1
}
