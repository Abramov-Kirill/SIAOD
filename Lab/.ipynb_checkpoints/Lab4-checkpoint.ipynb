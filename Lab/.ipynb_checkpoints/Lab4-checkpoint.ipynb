{
 "cells": [
  {
   "cell_type": "markdown",
   "id": "fifteen-sailing",
   "metadata": {},
   "source": [
    "# Лабораторная работа №4\n",
    "## Выполнил студент группы ФИО ГРУППА"
   ]
  },
  {
   "cell_type": "markdown",
   "id": "arctic-stocks",
   "metadata": {},
   "source": [
    "Реализовать следующие структуры данных:\n",
    "  \n",
    "● <b> Стек (stack): </b>  \n",
    "Операции для стека: \n",
    "<i> инициализация, проверка на пустоту, добавление нового элемента в начало, извлечение элемента из начала;  </i>  \n",
    "  \n",
    "● <b> Дек (двусторонняя очередь, deque):  </b>  \n",
    "Операции для дека: \n",
    "<i> инициализация, проверка на пустоту, добавление нового элемента в начало, добавление нового элемента в конец, извлечение элемента из начала, извлечение элемента из конца. </i>  \n",
    "  \n",
    "<i> Разработать программу обработки данных, содержащихся в заранее подготовленном txt-файле, в соответствии с заданиями, применив указанную в задании структуру данных. Результат работы программы вывести на экран и сохранить в отдельном txt-файле. </i>"
   ]
  },
  {
   "cell_type": "code",
   "execution_count": 29,
   "id": "c3f6f97d",
   "metadata": {},
   "outputs": [],
   "source": [
    "class Stack:\n",
    "    \n",
    "    def Empty(self):\n",
    "        return self.items == []\n",
    "    \n",
    "    def __init__(self, arr=None):\n",
    "        if not arr is None:\n",
    "            self.items = arr\n",
    "        else:\n",
    "            self.items = []\n",
    "\n",
    "    def push(self, item):\n",
    "        self.items.append(item)\n",
    "\n",
    "    def pop(self):\n",
    "        return self.items.pop()\n",
    "\n",
    "    def peek(self):\n",
    "        return self.items[len(self.items)-1]\n",
    "\n",
    "    def size(self):\n",
    "        return len(self.items)\n",
    "    \n",
    "class Deque:\n",
    "    \n",
    "    def __init__(self):\n",
    "        self.items = []\n",
    "\n",
    "    def isEmpty(self):\n",
    "        return self.items == []\n",
    "\n",
    "    def addFront(self, item):\n",
    "        self.items.append(item)\n",
    "\n",
    "    def addRear(self, item):\n",
    "        self.items.insert(0,item)\n",
    "\n",
    "    def removeFront(self):\n",
    "        return self.items.pop()\n",
    "\n",
    "    def removeRear(self):\n",
    "        return self.items.pop(0)\n",
    "\n",
    "    def size(self):\n",
    "        return len(self.items)\n",
    "    \n",
    "    def peek(self):\n",
    "        return self.items[-1]"
   ]
  },
  {
   "cell_type": "markdown",
   "id": "5d7edb08",
   "metadata": {
    "scrolled": true
   },
   "source": [
    "### Задание №1\n",
    "Отсортировать строки файла, содержащие названия книг, в алфавитном порядке с использованием двух деков."
   ]
  },
  {
   "cell_type": "code",
   "execution_count": 59,
   "id": "17702ade",
   "metadata": {},
   "outputs": [
    {
     "name": "stdout",
     "output_type": "stream",
     "text": [
      "Бедные люди\n",
      "Братья Карамазовы\n",
      "Война и Мир\n",
      "Герой нашего времени\n",
      "Голова профессора Доуэля\n",
      "Гранатовый браслет\n",
      "Двенадцать стульев\n",
      "Евгений Онегин\n",
      "Идиот\n",
      "Мастер и Маргарита\n",
      "Мизери\n",
      "Муму\n",
      "Мёртвые души\n",
      "Отцы и дети\n",
      "Преступление и наказание\n",
      "Собачье сердце\n",
      "Судьба человека\n",
      "Тихий Дон\n",
      "Шинель\n"
     ]
    }
   ],
   "source": [
    "def sort(file):\n",
    "    deq1 = Deque()\n",
    "    deq2 = Deque()\n",
    "\n",
    "    for line in file:\n",
    "        deq1.addRear(line.strip())\n",
    "\n",
    "    while not deq1.isEmpty():\n",
    "        a = deq1.removeRear()\n",
    "        while not deq2.isEmpty() and deq2.peek() > a:\n",
    "            deq1.addRear(deq2.removeFront())\n",
    "        deq2.addFront(a)\n",
    "    return deq2\n",
    "\n",
    "books = open(\"Books.txt\", 'r', encoding='utf-8')\n",
    "a = sort(books)\n",
    "while not a.isEmpty():\n",
    "    print(a.removeRear())\n",
    "    \n",
    "books.close()\n"
   ]
  },
  {
   "cell_type": "markdown",
   "id": "49fbd2a0",
   "metadata": {},
   "source": [
    "### Задание №2\n",
    "Дек содержит последовательность символов для шифровки сообщений. Дан текстовый файл, содержащий зашифрованное сообщение. Пользуясь деком, расшифровать текст. \n",
    "Известно, что при шифровке каждый символ сообщения заменялся следующим за ним в деке по часовой стрелке через один."
   ]
  },
  {
   "cell_type": "code",
   "execution_count": 61,
   "id": "81cab7a8",
   "metadata": {},
   "outputs": [
    {
     "name": "stdout",
     "output_type": "stream",
     "text": [
      "код\n"
     ]
    }
   ],
   "source": [
    "shifr = open(\"Shifr.txt\", 'r', encoding='utf-8')\n",
    "deq_shifr = Deque()\n",
    "code = \"имв\"\n",
    "\n",
    "for line in shifr:\n",
    "    deq_shifr.addRear(line.strip())\n",
    "result = \"\"\n",
    "for symbol in code:\n",
    "    while True:\n",
    "        codeSym = deq_shifr.removeFront()\n",
    "        if symbol != codeSym:\n",
    "            deq_shifr.addRear(codeSym)\n",
    "        else:\n",
    "            for i in range(2):\n",
    "                deq_shifr.addRear(codeSym)\n",
    "                codeSym = deq_shifr.removeFront()\n",
    "            result += codeSym\n",
    "            deq_shifr.addRear(codeSym)\n",
    "            break\n",
    "print(result)\n"
   ]
  },
  {
   "cell_type": "markdown",
   "id": "c0894f47",
   "metadata": {},
   "source": [
    "### Задание №3\n",
    "Даны три стержня и n дисков различного размера. Диски можно надевать на стержни, образуя из них башни. Перенести n дисков со стержня А на стержень С, сохранив их первоначальный порядок. При переносе дисков необходимо соблюдать следующие правила:\n",
    "- на каждом шаге со стержня на стержень переносить только один диск;\n",
    "- диск нельзя помещать на диск меньшего размера;\n",
    "- для промежуточного хранения можно использовать стержень В.\n",
    "Реализовать алгоритм, используя три стека вместо стержней А, В, С. Информация о дисках хранится в исходном файле."
   ]
  },
  {
   "cell_type": "code",
   "execution_count": 37,
   "id": "9e91a9d4",
   "metadata": {},
   "outputs": [
    {
     "name": "stdout",
     "output_type": "stream",
     "text": [
      "1\n",
      "2\n",
      "3\n",
      "4\n",
      "5\n",
      "6\n",
      "7\n"
     ]
    }
   ],
   "source": [
    "def move(x, y):\n",
    "    if x.size() == 0 and y.size() > 0:\n",
    "        x.push(y.pop())\n",
    "    elif x.size() > 0 and y.size() == 0:\n",
    "        y.push(x.pop())\n",
    "    elif x.peek() > y.peek():\n",
    "        x.push(y.pop())\n",
    "    else:\n",
    "        y.push(x.pop())\n",
    "\n",
    "\n",
    "a = Stack()\n",
    "b = Stack()\n",
    "c = Stack()\n",
    "\n",
    "disks = 7\n",
    "\n",
    "for i in range(disks, 0, -1):\n",
    "    a.push(i)\n",
    "\n",
    "if disks % 2 == 0:\n",
    "    while c.size() != disks:\n",
    "        move(a, b)\n",
    "        move(a, c)\n",
    "        move(b, c)\n",
    "else:\n",
    "    while c.size() != disks:\n",
    "        move(a, c)\n",
    "        if c.size() == disks:\n",
    "            break\n",
    "        move(a, b)\n",
    "        move(b, c)\n",
    "\n",
    "while not c.Empty():\n",
    "    print(c.pop())"
   ]
  },
  {
   "cell_type": "markdown",
   "id": "e5b0be17",
   "metadata": {},
   "source": [
    "### Задание №4\n",
    "Дан текстовый файл с программой на алгоритмическом языке. За один просмотр файла проверить баланс круглых скобок в тексте, используя стек."
   ]
  },
  {
   "cell_type": "code",
   "execution_count": 25,
   "id": "5b1df60a",
   "metadata": {},
   "outputs": [
    {
     "name": "stdout",
     "output_type": "stream",
     "text": [
      "(asf9()asfaf((())asdf)fasdawdas()()()dasfw)\n",
      "True\n"
     ]
    }
   ],
   "source": [
    "def scob(string):\n",
    "    stack = Stack()\n",
    "    for symbol in string:\n",
    "        if symbol == '(':\n",
    "            stack.push(symbol)\n",
    "        elif symbol == ')':\n",
    "            if stack.Empty():\n",
    "                return False\n",
    "            else:\n",
    "                stack.pop()\n",
    "    return True\n",
    "\n",
    "file = open(\"Scob.txt\", 'r', encoding='utf-8')\n",
    "a = file.read()\n",
    "print(a)\n",
    "print(scob(a))"
   ]
  },
  {
   "cell_type": "markdown",
   "id": "c44cdd6b",
   "metadata": {},
   "source": [
    "### Задание №5\n",
    "Дан текстовый файл с программой на алгоритмическом языке. За один просмотр файла проверить баланс квадратных скобок в тексте, используя дек."
   ]
  },
  {
   "cell_type": "code",
   "execution_count": 24,
   "id": "36b8f400",
   "metadata": {},
   "outputs": [
    {
     "name": "stdout",
     "output_type": "stream",
     "text": [
      "asdfw[das]dwqdqwd[[]]qweqweqw[][]qwesafasf[]asfasf[asd[asdsaf[adasf]]]\n",
      "True\n"
     ]
    }
   ],
   "source": [
    "def scob(string):\n",
    "    stack = Stack()\n",
    "    for symbol in string:\n",
    "        if symbol == '[':\n",
    "            stack.push(symbol)\n",
    "        elif symbol == ']':\n",
    "            if stack.Empty():\n",
    "                return False\n",
    "            else:\n",
    "                stack.pop()\n",
    "    return True\n",
    "\n",
    "file = open(\"Scob2.txt\", 'r', encoding='utf-8')\n",
    "a = file.read()\n",
    "print(a)\n",
    "print(scob(a))"
   ]
  },
  {
   "cell_type": "markdown",
   "id": "59d13dc7",
   "metadata": {},
   "source": [
    "### Задание №6\n",
    "Дан файл из символов. Используя стек, за один просмотр файла напечатать сначала все цифры, затем все буквы, и, наконец, все остальные символы, сохраняя исходный порядок в каждой группе символов."
   ]
  },
  {
   "cell_type": "code",
   "execution_count": 23,
   "id": "297e36c2",
   "metadata": {},
   "outputs": [
    {
     "name": "stdout",
     "output_type": "stream",
     "text": [
      "uycda346bb1236bv,l/64vk21364l.j3lv;k12/.3;kv;1v4345'daljsbd4ljw2u13vkjkvaf36434dlj4blb';AS'D;'AFBLDA;'\n",
      "346123664213643123143454213364344uycdabbbvlvkljlvkkvvdaljsbdljwuvkjkvafdljblbASDAFBLDA,/.;/.;;'';';';'\n"
     ]
    }
   ],
   "source": [
    "def dls(string):\n",
    "    digit = Stack()\n",
    "    letter = Stack()\n",
    "    symbol = Stack()\n",
    "    for i in string[::-1]:\n",
    "        if i.isdigit():\n",
    "            digit.push(i)\n",
    "        elif i.isalpha():\n",
    "            letter.push(i)\n",
    "        else:\n",
    "            symbol.push(i)\n",
    "    strDigit = \"\"\n",
    "    strLetter = \"\"\n",
    "    strSymbol = \"\"\n",
    "    while not digit.Empty():\n",
    "        strDigit += digit.pop()\n",
    "    while not letter.Empty():\n",
    "        strLetter += letter.pop()\n",
    "    while not symbol.Empty():\n",
    "        strSymbol += symbol.pop()\n",
    "    return strDigit + strLetter + strSymbol\n",
    "\n",
    "\n",
    "file = open(\"Symbol_for_4Lab.txt\", 'r', encoding='utf-8')\n",
    "a = file.read()\n",
    "print(a)\n",
    "print(dls(a))"
   ]
  },
  {
   "cell_type": "markdown",
   "id": "973f68bd",
   "metadata": {},
   "source": [
    "### Задание №7\n",
    "Дан файл из целых чисел. Используя дек, за один просмотр файла напечатать сначала все отрицательные числа, затем все положительные числа, сохраняя исходный порядок в каждой группе."
   ]
  },
  {
   "cell_type": "code",
   "execution_count": 22,
   "id": "c56fad66",
   "metadata": {},
   "outputs": [
    {
     "name": "stdout",
     "output_type": "stream",
     "text": [
      "['123', '-32', '32', '-12', '-32', '133', '-2', '-3', '-44', '134', '-2', '44', '-12', '34']\n",
      "[-32, -12, -32, -2, -3, -44, -2, -12, 123, 32, 133, 134, 44, 34]\n"
     ]
    }
   ],
   "source": [
    "def negativeAndPositive(arr):\n",
    "    deq = Deque()\n",
    "    kol_otr = 0\n",
    "    for num in arr[::-1]:\n",
    "        num = int(num)\n",
    "        if num > 0:\n",
    "            deq.addRear(num)\n",
    "        elif num < 0:\n",
    "            deq.addFront(num)\n",
    "            kol_otr += 1\n",
    "    return [deq.removeFront() for i in range(kol_otr)] + [deq.removeRear() for i in range(len(arr) - kol_otr)]\n",
    "\n",
    "\n",
    "file = open(\"Num_for_Lab4.txt\", 'r', encoding='utf-8')\n",
    "a = file.read().split(' ')\n",
    "print(a)\n",
    "print(negativeAndPositive(a))"
   ]
  },
  {
   "cell_type": "markdown",
   "id": "b9228191",
   "metadata": {},
   "source": [
    "### Задание №8\n",
    "Дан текстовый файл. Используя стек, сформировать новый текстовый файл, содержащий строки исходного файла, записанные в обратном порядке: первая строка становится последней, вторая – предпоследней и т.д."
   ]
  },
  {
   "cell_type": "code",
   "execution_count": 36,
   "id": "981fbdfe",
   "metadata": {},
   "outputs": [],
   "source": [
    "def reversLine(text, nameNewFile):\n",
    "    stack = Stack(text.split('\\n'))\n",
    "    \n",
    "    my_file = open(\"/Users/Kirill/Desktop/Шарага/4 Семестр/Siaod/Lab/\" + nameNewFile, \"w+\")\n",
    "    my_file.write(''.join([stack.pop() + '\\n' for i in range(stack.size())]).strip())\n",
    "    my_file.close()\n",
    "\n",
    "\n",
    "\n",
    "file = open(\"Stroki_for_4Lab.txt\", 'r', encoding='utf-8')\n",
    "a = file.read()\n",
    "reversLine(a, \"new.txt\")"
   ]
  },
  {
   "cell_type": "markdown",
   "id": "rental-jerusalem",
   "metadata": {},
   "source": [
    "### Вывод\n"
   ]
  },
  {
   "cell_type": "markdown",
   "id": "0c2b8899",
   "metadata": {},
   "source": []
  }
 ],
 "metadata": {
  "kernelspec": {
   "display_name": "Python 3 (ipykernel)",
   "language": "python",
   "name": "python3"
  },
  "language_info": {
   "codemirror_mode": {
    "name": "ipython",
    "version": 3
   },
   "file_extension": ".py",
   "mimetype": "text/x-python",
   "name": "python",
   "nbconvert_exporter": "python",
   "pygments_lexer": "ipython3",
   "version": "3.9.7"
  }
 },
 "nbformat": 4,
 "nbformat_minor": 5
}
