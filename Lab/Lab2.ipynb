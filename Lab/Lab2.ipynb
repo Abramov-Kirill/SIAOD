{
 "cells": [
  {
   "cell_type": "markdown",
   "id": "fifteen-sailing",
   "metadata": {},
   "source": [
    "# Лабораторная работа №2\n",
    "## Выполнил студент группы ГРУППА ФИО"
   ]
  },
  {
   "cell_type": "markdown",
   "id": "particular-syndicate",
   "metadata": {},
   "source": [
    "### Оглавление\n",
    "1. [Задание 1](#Задание-№1)\n",
    "2. [Задание 2](#Задание-№2)\n",
    "3. [Задание 3](#Задание-№3)"
   ]
  },
  {
   "cell_type": "markdown",
   "id": "arctic-stocks",
   "metadata": {},
   "source": [
    "### Задание №1\n",
    "Реализовать методы поиска в соответствии с заданием. Организовать генерацию начального набора случайных данных. Для всех вариантов добавить реализацию добавления, поиска и удаления элементов. Оценить время работы каждого алгоритма поиска и сравнить его со временем работы стандартной функции поиска, используемой в выбранном языке программирования."
   ]
  },
  {
   "cell_type": "code",
   "execution_count": 11,
   "id": "caring-truck",
   "metadata": {
    "scrolled": true
   },
   "outputs": [],
   "source": [
    "import random\n",
    "import time\n",
    "import numpy as np"
   ]
  },
  {
   "cell_type": "code",
   "execution_count": 38,
   "id": "e779ea1c",
   "metadata": {},
   "outputs": [
    {
     "name": "stdout",
     "output_type": "stream",
     "text": [
      "[185 659 269 680 772 171 894 976 436 693]\n"
     ]
    }
   ],
   "source": [
    "arr = np.random.randint(0, 1000, 10)\n",
    "print(arr)"
   ]
  },
  {
   "cell_type": "code",
   "execution_count": 45,
   "id": "e0c819d3",
   "metadata": {},
   "outputs": [
    {
     "name": "stdout",
     "output_type": "stream",
     "text": [
      "Исходный массив: [171 185 269 436 659 680 693 772 894 976]\n",
      "Исходное значение: 772\n",
      "Результат бинарного поиска:  7\n",
      "Время бинарного поиска: 0.005950ms\n",
      "-------------------------------------\n",
      "Результат стандартного поиска:  (array([7], dtype=int64),)\n",
      "Время стандартного поиска: 0.008940ms\n"
     ]
    }
   ],
   "source": [
    "def bin_search(arr, desired):\n",
    "    arr_t = np.sort(arr)\n",
    "    step = 0\n",
    "    while len(arr_t) > 0:\n",
    "        middle = len(arr_t)//2\n",
    "        if(arr_t[middle] == desired):\n",
    "            return middle + step\n",
    "        elif(arr_t[middle] < desired):\n",
    "            step += middle + 1\n",
    "            arr_t = arr_t[middle+1:]\n",
    "        else:\n",
    "            arr_t = arr_t[:middle]\n",
    "    return -1\n",
    "\n",
    "\n",
    "arr_1 = np.sort(arr);\n",
    "desired = 772\n",
    "\n",
    "start_time = (time.perf_counter())\n",
    "result = bin_search(arr_1, desired)\n",
    "end_time = (time.perf_counter())\n",
    "\n",
    "print(\"Исходный массив:\", arr_1)\n",
    "print(\"Исходное значение:\", desired)\n",
    "print(\"Результат бинарного поиска: \", result)\n",
    "print(\"Время бинарного поиска: {:.6f}ms\".format((end_time-start_time)*100))\n",
    "\n",
    "\n",
    "\n",
    "print(\"-------------------------------------\")\n",
    "\n",
    "start_time = (time.perf_counter())\n",
    "stdRes = np.where(arr_1 == desired)\n",
    "end_time = (time.perf_counter())\n",
    "\n",
    "print(\"Результат стандартного поиска: \", stdRes)\n",
    "print(\"Время стандартного поиска: {:.6f}ms\".format((end_time-start_time)*100))\n"
   ]
  },
  {
   "cell_type": "code",
   "execution_count": null,
   "id": "75af3ea8",
   "metadata": {},
   "outputs": [],
   "source": [
    "#Бинарное дерево"
   ]
  },
  {
   "cell_type": "code",
   "execution_count": 13,
   "id": "abe4b0b4",
   "metadata": {},
   "outputs": [
    {
     "name": "stdout",
     "output_type": "stream",
     "text": [
      "Исходный массив: [3, 7, 11, 16, 24, 29, 31, 45, 68, 91]\n",
      "Исходное значение: 31\n",
      "Результат бинарного поиска:  6\n",
      "Время бинарного поиска: 0.006670ms\n"
     ]
    }
   ],
   "source": [
    "class FibonacciSearch:\n",
    "    def __init__(self):\n",
    "        self.i = 0\n",
    "        self.p = 0\n",
    "        self.q = 0\n",
    "        self.stop = False\n",
    "\n",
    "    def get_fibonacci_number(self, k):\n",
    "        first_number = 0\n",
    "        second_number = 1\n",
    "        n = 0\n",
    "        while n < k:\n",
    "            temp_number = second_number\n",
    "            second_number += first_number\n",
    "            first_number = temp_number\n",
    "            n = n + 1\n",
    "        return first_number\n",
    "\n",
    "    def start_init(self, arr):\n",
    "        self.stop = False\n",
    "        k = 0\n",
    "        n = len(arr)\n",
    "        while (self.get_fibonacci_number(k+1) < len(arr)):\n",
    "            k = k+1\n",
    "        m = self.get_fibonacci_number(k+1)-(n+1)\n",
    "        self.i = self.get_fibonacci_number(k) - m\n",
    "        self.p = self.get_fibonacci_number(k-1)\n",
    "        self.q = self.get_fibonacci_number(k-2)\n",
    "\n",
    "    def up_index(self):\n",
    "        if self.p == 1:\n",
    "            self.stop = True\n",
    "        self.i = self.i + self.q\n",
    "        self.p = self.p - self.q\n",
    "        self.q = self.q - self.p\n",
    "\n",
    "    def down_index(self):\n",
    "        if self.q == 0:\n",
    "            self.stop = True\n",
    "        self.i = self.i-self.q\n",
    "        temp = self.q\n",
    "        self.q = self.p - self.q\n",
    "        self.p = temp\n",
    "\n",
    "    def search(self, arr, num):\n",
    "        self.start_init(arr)\n",
    "        result_index = -1\n",
    "        while not self.stop:\n",
    "            if self.i < 0:\n",
    "                self.up_index()\n",
    "            elif self.i >= len(arr):\n",
    "                self.down_index()\n",
    "            elif arr[self.i] == num:\n",
    "                return self.i\n",
    "            elif num < arr[self.i]:\n",
    "                self.down_index()\n",
    "            elif num > arr[self.i]:\n",
    "                self.up_index()\n",
    "        return result_index\n",
    "\n",
    "\n",
    "arr = [3, 7, 11, 16, 24, 29, 31, 45, 68, 91]\n",
    "num = 31\n",
    "\n",
    "start_time = (time.perf_counter())\n",
    "fib = FibonacciSearch()\n",
    "result = fib.search(arr, num)\n",
    "end_time = (time.perf_counter())\n",
    "\n",
    "print(\"Исходный массив:\", arr)\n",
    "print(\"Исходное значение:\", num)\n",
    "print(\"Результат поиска Фибоначи: \", result)\n",
    "print(\"Время бинарного поиска: {:.6f}ms\".format((end_time-start_time)*100))\n",
    "    \n",
    "    "
   ]
  },
  {
   "cell_type": "code",
   "execution_count": 14,
   "id": "34ec2894",
   "metadata": {},
   "outputs": [
    {
     "name": "stdout",
     "output_type": "stream",
     "text": [
      "Исходный массив: [3, 7, 11, 16, 24, 29, 31, 45, 68, 91]\n",
      "Исходное значение: 31\n",
      "Результат бинарного поиска:  6\n",
      "Время бинарного поиска: 0.004340ms\n"
     ]
    }
   ],
   "source": [
    "def interpolatingFind(arr:list, needle:int):\n",
    "    left = 0\n",
    "    right = len(arr) - 1\n",
    "    \n",
    "    while(arr[left] < needle and arr[right] > needle):\n",
    "        if arr[right] == arr[left]:\n",
    "            break\n",
    "        mid = int(left + ((needle - arr[left]) * (right - left)) / (arr[right] - arr[left]))\n",
    "        \n",
    "        if arr[mid] > needle:\n",
    "            right = mid - 1\n",
    "        elif arr[mid] < needle:\n",
    "            left = mid + 1\n",
    "        else:\n",
    "            return mid\n",
    "    if arr[right] == needle:\n",
    "        return right\n",
    "    elif arr[left] == needle:\n",
    "        return left\n",
    "    else:\n",
    "        return -1\n",
    "    \n",
    "    \n",
    "arr = [3, 7, 11, 16, 24, 29, 31, 45, 68, 91]\n",
    "num = 31\n",
    "\n",
    "start_time = (time.perf_counter())\n",
    "result = interpolatingFind(arr, num)\n",
    "end_time = (time.perf_counter())\n",
    "\n",
    "print(\"Исходный массив:\", arr)\n",
    "print(\"Исходное значение:\", num)\n",
    "print(\"Результат бинарного поиска: \", result)\n",
    "print(\"Время бинарного поиска: {:.6f}ms\".format((end_time-start_time)*100))"
   ]
  },
  {
   "cell_type": "markdown",
   "id": "maritime-conversation",
   "metadata": {},
   "source": [
    "### Задание №2\n",
    "Написать соответствующие решения для заданных методов."
   ]
  },
  {
   "cell_type": "code",
   "execution_count": null,
   "id": "97f9de37",
   "metadata": {},
   "outputs": [],
   "source": [
    "#Простое рехэширование"
   ]
  },
  {
   "cell_type": "code",
   "execution_count": null,
   "id": "b4b80e3a",
   "metadata": {},
   "outputs": [],
   "source": [
    "#Рехэширование с помощью псевдослучайных чисел\n"
   ]
  },
  {
   "cell_type": "code",
   "execution_count": null,
   "id": "1addc092",
   "metadata": {},
   "outputs": [],
   "source": [
    "#Метод цепочек"
   ]
  },
  {
   "cell_type": "markdown",
   "id": "catholic-roots",
   "metadata": {},
   "source": [
    "### Задание №3\n",
    "Расставить на стандартной 64-клеточной шахматной доске 8 ферзей так, чтобы ни один из них не находился под боем другого». Подразумевается, что ферзь бьёт все клетки, расположенные по вертикалям, горизонталям и обеим диагоналям\n",
    "Написать программу,  которая находит хотя бы один способ решения задач.\n"
   ]
  },
  {
   "cell_type": "code",
   "execution_count": null,
   "id": "09de30c9",
   "metadata": {},
   "outputs": [],
   "source": []
  }
 ],
 "metadata": {
  "kernelspec": {
   "display_name": "Python 3 (ipykernel)",
   "language": "python",
   "name": "python3"
  },
  "language_info": {
   "codemirror_mode": {
    "name": "ipython",
    "version": 3
   },
   "file_extension": ".py",
   "mimetype": "text/x-python",
   "name": "python",
   "nbconvert_exporter": "python",
   "pygments_lexer": "ipython3",
   "version": "3.9.7"
  }
 },
 "nbformat": 4,
 "nbformat_minor": 5
}
