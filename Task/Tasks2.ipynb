{
 "cells": [
  {
   "cell_type": "markdown",
   "id": "244314fb",
   "metadata": {},
   "source": [
    "# Задание 1"
   ]
  },
  {
   "cell_type": "markdown",
   "id": "64630386",
   "metadata": {},
   "source": [
    "Массив A состоит из целых положительных чисел ­ длин отрезков. Составьте из трех отрезков такой треугольник, чтобы его периметр был максимально возможным. Если невозможно составить треугольник с положительной площадью ­ функция возвращает 0."
   ]
  },
  {
   "cell_type": "code",
   "execution_count": 2,
   "id": "3b0d440a",
   "metadata": {},
   "outputs": [],
   "source": [
    "import random\n",
    "import time\n",
    "import numpy as np\n",
    "from heapq import *\n",
    "import copy"
   ]
  },
  {
   "cell_type": "code",
   "execution_count": 38,
   "id": "48253dc6",
   "metadata": {},
   "outputs": [
    {
     "name": "stdout",
     "output_type": "stream",
     "text": [
      "[ 2  3  4  7 12 14 16 17 18 19]\n",
      "54\n"
     ]
    }
   ],
   "source": [
    "arr = np.random.randint(1, 20, 10)\n",
    "arr\n",
    "maxP = 0\n",
    "\n",
    "for i in range(len(arr) -1):\n",
    "    for j in range(len(arr) - (i + 1)):\n",
    "            if arr[j] > arr[j+1]:\n",
    "                t = arr[j+1]\n",
    "                arr[j+1] = arr[j]\n",
    "                arr[j] = t\n",
    "\n",
    "for i in range(len(arr)-1, 2, -1):\n",
    "    if(arr[i] < arr[i-1] + arr[-2]):\n",
    "        maxP = arr[i] + arr[i-1] + arr[i-2]\n",
    "        break\n",
    "                \n",
    "            \n",
    "print(arr)        \n",
    "print(maxP)"
   ]
  },
  {
   "cell_type": "markdown",
   "id": "b3a969a6",
   "metadata": {},
   "source": [
    "# Задание 2"
   ]
  },
  {
   "cell_type": "markdown",
   "id": "9c1ce05d",
   "metadata": {},
   "source": [
    "Дан массив неотрицательных целых чисел nums. Расположите их в таком порядке, чтобы вместе они образовали максимально возможное число. Замечание: Результат может быть очень большим числом, поэтому представьте его как string, а не integer."
   ]
  },
  {
   "cell_type": "code",
   "execution_count": 8,
   "id": "3f06c4fc",
   "metadata": {},
   "outputs": [
    {
     "name": "stdout",
     "output_type": "stream",
     "text": [
      "[55 79 69  4 70 97 86 92 36 82 80 46 59 60 44 66 52  4 79 21]\n",
      "97928682807979706966605955524644443621\n"
     ]
    }
   ],
   "source": [
    "##Сравнивает два числа и возвращает true если a лучше b\n",
    "def comparison(a, b):\n",
    "    a_str = str(a)\n",
    "    b_str = str(b)\n",
    "    while len(a_str) > 0 and len(b_str) > 0:\n",
    "        if int(a_str[0]) > int(b_str[0]):\n",
    "            return True\n",
    "        elif int(b_str[0]) > int(a_str[0]):\n",
    "            return False\n",
    "        a_str = a_str[1:]\n",
    "        b_str = b_str[1:]\n",
    "    if len(a_str) == 0 and len(a_str) != 0:\n",
    "        if(int(b_str[0]) > int(str(a)[0])):\n",
    "            return False\n",
    "        return True\n",
    "    elif len(b_str) == 0 and len(a_str) != 0:\n",
    "        if(int(a_str[0]) > int(str(b)[0])):\n",
    "            return True\n",
    "        return False\n",
    "    return False\n",
    "        \n",
    "        \n",
    "arr = np.random.randint(1, 100, 20)\n",
    "print(arr)\n",
    "for i in range(len(arr) - 1):\n",
    "    for j in range(len(arr) - 1):\n",
    "            if not(comparison(arr[j], arr[j+1])):\n",
    "                t = arr[j+1]\n",
    "                arr[j+1] = arr[j]\n",
    "                arr[j] = t\n",
    "\n",
    "result = \"\"\n",
    "for i in range(len(arr)):\n",
    "    result += str(arr[i])\n",
    "print(result)"
   ]
  },
  {
   "cell_type": "markdown",
   "id": "5f54b630",
   "metadata": {},
   "source": [
    "# Задание 3"
   ]
  },
  {
   "cell_type": "markdown",
   "id": "566f1d3b",
   "metadata": {},
   "source": [
    "Дана матрица mat размером m * n, значения ­ целочисленные. Напишите функцию, сортирующую каждую диагональ матрицы по возрастанию и возвращающую получившуюся матрицу."
   ]
  },
  {
   "cell_type": "code",
   "execution_count": 92,
   "id": "be07379d",
   "metadata": {},
   "outputs": [
    {
     "name": "stdout",
     "output_type": "stream",
     "text": [
      "5\n",
      "7\n",
      "[[ 5  0  3  2  3  2  4]\n",
      " [ 5  0  5  6  7  0  9]\n",
      " [ 9  4  3 10  2  3  4]\n",
      " [10  9  3  3  9  8  5]\n",
      " [ 8  6  2 10  8  9  8]]\n",
      "_________________________________\n",
      "[[ 0  0  3  2  3  2  0]\n",
      " [ 5  2  5  6  7  2  9]\n",
      " [ 9  4  3 10  3  3  4]\n",
      " [10  9  3  4  9  8  5]\n",
      " [ 8  6  5 10  8  9  8]]\n"
     ]
    }
   ],
   "source": [
    "w = int(input())\n",
    "h = int(input())\n",
    "matrix = np.random.randint(0, 11, (w, h))\n",
    "print(matrix)\n",
    "print(\"_________________________________\")\n",
    "diag = min(w, h)\n",
    "for i in range(diag):\n",
    "    for j in range(diag - 1):\n",
    "        if(matrix[j][j] > matrix[j+1][j+1]):\n",
    "            matrix[j][j], matrix[j+1][j+1] = matrix[j+1][j+1], matrix[j][j]\n",
    "        if(matrix[j][h-j-1] > matrix[j+1][h-j-2]):\n",
    "            matrix[j][h-j-1], matrix[j+1][h-j-2] = matrix[j+1][h-j-2], matrix[j][h-j-1]\n",
    "print(matrix)"
   ]
  }
 ],
 "metadata": {
  "kernelspec": {
   "display_name": "Python 3 (ipykernel)",
   "language": "python",
   "name": "python3"
  },
  "language_info": {
   "codemirror_mode": {
    "name": "ipython",
    "version": 3
   },
   "file_extension": ".py",
   "mimetype": "text/x-python",
   "name": "python",
   "nbconvert_exporter": "python",
   "pygments_lexer": "ipython3",
   "version": "3.9.7"
  }
 },
 "nbformat": 4,
 "nbformat_minor": 5
}
